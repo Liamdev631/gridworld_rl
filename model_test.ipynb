{
 "cells": [
  {
   "cell_type": "code",
   "execution_count": 1,
   "metadata": {},
   "outputs": [
    {
     "data": {
      "application/vnd.jupyter.widget-view+json": {
       "model_id": "c6152f3384b64b6ba148ea794bfa9ba7",
       "version_major": 2,
       "version_minor": 0
      },
      "text/plain": [
       "0it [00:00, ?it/s]"
      ]
     },
     "metadata": {},
     "output_type": "display_data"
    }
   ],
   "source": [
    "import numpy as np\n",
    "import matplotlib.pyplot as plt\n",
    "from matplotlib.animation import FuncAnimation\n",
    "from spiking_feast import SpikingFEAST\n",
    "import torch\n",
    "from tqdm.notebook import tqdm\n",
    "\n",
    "torch.set_grad_enabled(False)\n",
    "\n",
    "input_dim = 2\n",
    "num_neurons = 10\n",
    "theta_open = 1e-4\n",
    "learning_rate = 1e-3\n",
    "num_epochs = 1000\n",
    "\n",
    "input_layer = SpikingFEAST(input_size=input_dim, num_neurons=num_neurons)\n",
    "\n",
    "# Simulated dataset with three probability density functions (PDF)\n",
    "dataset = torch.randn(100, input_dim) * 0.2\n",
    "dataset[:33] += 2\n",
    "dataset[33:66] -= 2\n",
    "\n",
    "# Create the figure and axes\n",
    "fig, ax = plt.subplots(figsize=(6, 6))\n",
    "ax.set_xlim(-4, 4)\n",
    "ax.set_ylim(-4, 4)\n",
    "ax.set_xlabel('x1')\n",
    "ax.set_ylabel('x2')\n",
    "ax.set_title('Adaptation of Input Layer Neurons')\n",
    "ax.set_aspect('equal', adjustable='box')\n",
    "\n",
    "# Initialize the scatter plot for weights and circles for thresholds\n",
    "weights_scatter = ax.scatter([], [], c='r', marker='o') # type: ignore\n",
    "dataset_scatter = ax.scatter([], [], c='b', marker='o', alpha=0.2) # type: ignore\n",
    "circles = [plt.Circle((0, 0), 0, color='b', fill=False) for _ in range(num_neurons)] # type: ignore\n",
    "\n",
    "weights_history = torch.zeros(len(dataset), num_neurons, input_dim)\n",
    "threshold_history = torch.zeros(len(dataset), num_neurons)\n",
    "\n",
    "for i, observation in enumerate(dataset):\n",
    "\tactivation = input_layer(observation)\n",
    "\tweights_history[i] = input_layer.weights.detach()\n",
    "\tthreshold_history[i] = input_layer.thresholds.detach()\n",
    "\n",
    "# Function to update the scatter plot and circles\n",
    "def update(frame):\n",
    "\tweights_scatter.set_offsets(weights_history[frame])\n",
    "\tdataset_scatter.set_offsets(dataset[frame])\n",
    "\tfor i in range(num_neurons):\n",
    "\t\tcircles[i].center = weights_history[frame, :, i]\n",
    "\t\tcircles[i].radius = threshold_history[frame, i]\n",
    "\t\tax.add_patch(circles[i])\n",
    "\n",
    "# Create the animation\n",
    "animation = FuncAnimation(fig, update, frames=range(num_epochs), interval=100, repeat=False)"
   ]
  },
  {
   "cell_type": "code",
   "execution_count": null,
   "metadata": {},
   "outputs": [],
   "source": [
    "# Display the animation\n",
    "animation"
   ]
  }
 ],
 "metadata": {
  "kernelspec": {
   "display_name": "rimworld_env",
   "language": "python",
   "name": "python3"
  },
  "language_info": {
   "codemirror_mode": {
    "name": "ipython",
    "version": 3
   },
   "file_extension": ".py",
   "mimetype": "text/x-python",
   "name": "python",
   "nbconvert_exporter": "python",
   "pygments_lexer": "ipython3",
   "version": "3.10.9"
  },
  "orig_nbformat": 4
 },
 "nbformat": 4,
 "nbformat_minor": 2
}
