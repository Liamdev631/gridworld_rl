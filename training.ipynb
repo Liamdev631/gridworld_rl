{
 "cells": [
  {
   "cell_type": "code",
   "execution_count": 4,
   "metadata": {},
   "outputs": [
    {
     "data": {
      "application/vnd.jupyter.widget-view+json": {
       "model_id": "b4522f3dc05f4d9196ec76b6ab8ddc39",
       "version_major": 2,
       "version_minor": 0
      },
      "text/plain": [
       "Epoch:   0%|          | 0/10 [00:00<?, ?it/s]"
      ]
     },
     "metadata": {},
     "output_type": "display_data"
    },
    {
     "ename": "ValueError",
     "evalue": "'random' is not in list",
     "output_type": "error",
     "traceback": [
      "\u001b[1;31m---------------------------------------------------------------------------\u001b[0m",
      "\u001b[1;31mValueError\u001b[0m                                Traceback (most recent call last)",
      "Cell \u001b[1;32mIn[4], line 76\u001b[0m\n\u001b[0;32m     72\u001b[0m \u001b[39mfor\u001b[39;00m _ \u001b[39min\u001b[39;00m tqdm(\u001b[39mrange\u001b[39m(num_epochs), desc\u001b[39m=\u001b[39m\u001b[39m'\u001b[39m\u001b[39mEpoch\u001b[39m\u001b[39m'\u001b[39m, leave\u001b[39m=\u001b[39m\u001b[39mTrue\u001b[39;00m):\n\u001b[0;32m     73\u001b[0m     \u001b[39m# Initialize the session \u001b[39;00m\n\u001b[0;32m     74\u001b[0m     world\u001b[39m.\u001b[39mreset()\n\u001b[1;32m---> 76\u001b[0m     sim_duration \u001b[39m=\u001b[39m simulate_epoch()\n\u001b[0;32m     78\u001b[0m     \u001b[39m# Update the performance history\u001b[39;00m\n\u001b[0;32m     79\u001b[0m     duration_history\u001b[39m.\u001b[39mappend(sim_duration)\n",
      "Cell \u001b[1;32mIn[4], line 57\u001b[0m, in \u001b[0;36msimulate_epoch\u001b[1;34m()\u001b[0m\n\u001b[0;32m     55\u001b[0m \u001b[39mif\u001b[39;00m torch\u001b[39m.\u001b[39mrand(\u001b[39m1\u001b[39m) \u001b[39m<\u001b[39m p_random_action:\n\u001b[0;32m     56\u001b[0m     action \u001b[39m=\u001b[39m \u001b[39mint\u001b[39m(torch\u001b[39m.\u001b[39mrandint(low\u001b[39m=\u001b[39m\u001b[39m0\u001b[39m, high\u001b[39m=\u001b[39m\u001b[39mlen\u001b[39m(agent\u001b[39m.\u001b[39mactions), size\u001b[39m=\u001b[39m(\u001b[39m1\u001b[39m,))\u001b[39m.\u001b[39mitem())\n\u001b[1;32m---> 57\u001b[0m     action \u001b[39m=\u001b[39m agent\u001b[39m.\u001b[39;49mactions\u001b[39m.\u001b[39;49mindex(\u001b[39m'\u001b[39;49m\u001b[39mrandom\u001b[39;49m\u001b[39m'\u001b[39;49m)\n\u001b[0;32m     58\u001b[0m reward \u001b[39m=\u001b[39m agent\u001b[39m.\u001b[39mstep(action, world)\n\u001b[0;32m     60\u001b[0m \u001b[39m# Force the neuron producing the correct response to burst spikes, allowing\u001b[39;00m\n\u001b[0;32m     61\u001b[0m \u001b[39m# STDP to backpropagate the reward signal\u001b[39;00m\n",
      "\u001b[1;31mValueError\u001b[0m: 'random' is not in list"
     ]
    }
   ],
   "source": [
    "import torch\n",
    "from gridworld.tile_types import TileType\n",
    "from gridworld.world import World\n",
    "from gridworld.agent import Agent\n",
    "import matplotlib.pyplot as plt\n",
    "from tqdm.notebook import tqdm\n",
    "import gc\n",
    "#from spiking_feast import SpikingFEASTNetwork\n",
    "from models.rstdp import SNN\n",
    "\n",
    "lr = 1e-2\n",
    "num_epochs = 100\n",
    "num_steps_per_epoch = 500\n",
    "#num_ticks_per_step = 50\n",
    "reward = 0\n",
    "action = 0\n",
    "p_random_action_initial = 1.0\n",
    "p_random_action_decay = 0.99 # 1 means no decay\n",
    "\n",
    "hidden_size = 100\n",
    "hidden_size2 = 100\n",
    "\n",
    "num_steps_for_inference = 100\n",
    "num_steps_for_learning = 100\n",
    "\n",
    "world: World = World()\n",
    "agent: Agent = Agent()\n",
    "duration_history = []\n",
    "\n",
    "#weights_1_history = torch.zeros((num_epochs, agent.input_size, agent.hidden_size))\n",
    "#net = SpikingFEASTNetwork(agent.input_size, agent.hidden_size, hidden_size2, agent.output_size, lr=5)\n",
    "net = SNN(agent.input_size, 32, agent.output_size)\n",
    "\n",
    "def simulate_epoch() -> int:\n",
    "    step: int = 0\n",
    "    reward: float = 0.0\n",
    "    p_random_action: float = p_random_action_initial\n",
    "    \n",
    "    #weights_1_history[step] = agent.model.input_layer.weights # type: ignore\n",
    "    \n",
    "    for step in range(num_steps_per_epoch):\n",
    "         \n",
    "        # Decay the learning parameters\n",
    "        p_random_action *= p_random_action_decay\n",
    "        \n",
    "        # Generate the visual input\n",
    "        agent.update_visual_field(world)\n",
    "        \n",
    "        # Compute the action from the feed-forward neural network\n",
    "        for _ in range(num_steps_for_inference):\n",
    "            net.forward(agent.visual_field)\n",
    "        action = int(torch.argmax(net.output_layer.post_synaptic_potential).item())\n",
    "        \n",
    "        # Take the action and get the reward\n",
    "        if torch.rand(1) < p_random_action:\n",
    "            action = int(torch.randint(low=0, high=len(agent.actions), size=(1,)).item())\n",
    "        reward = agent.step(action, world)\n",
    "\n",
    "        # Force the neuron producing the correct response to burst spikes, allowing\n",
    "        # STDP to backpropagate the reward signal\n",
    "        net.output_layer.post_synaptic_potential[action] = reward\n",
    "        for _ in range(num_steps_for_learning):\n",
    "            net.forward(agent.visual_field)\n",
    "        \n",
    "        # Exit early if the agent is done\n",
    "        if world.is_complete():\n",
    "            break\n",
    "    return step\n",
    "\n",
    "# Training loop\n",
    "for _ in tqdm(range(num_epochs), desc='Epoch', leave=True):\n",
    "    # Initialize the session \n",
    "    world.reset()\n",
    "\n",
    "    sim_duration = simulate_epoch()\n",
    "        \n",
    "    # Update the performance history\n",
    "    duration_history.append(sim_duration)"
   ]
  },
  {
   "cell_type": "code",
   "execution_count": null,
   "metadata": {},
   "outputs": [
    {
     "data": {
      "image/png": "[encoded data removed]",
      "text/plain": [
       "<Figure size 1000x500 with 1 Axes>"
      ]
     },
     "metadata": {},
     "output_type": "display_data"
    }
   ],
   "source": [
    "fig = plt.figure(figsize=(10, 5))\n",
    "plt.plot(duration_history)\n",
    "plt.ylabel('Duration')\n",
    "plt.xlabel('Epoch')\n",
    "plt.title('Training Performance');"
   ]
  }
 ],
 "metadata": {
  "kernelspec": {
   "display_name": "gridworld",
   "language": "python",
   "name": "python3"
  },
  "language_info": {
   "codemirror_mode": {
    "name": "ipython",
    "version": 3
   },
   "file_extension": ".py",
   "mimetype": "text/x-python",
   "name": "python",
   "nbconvert_exporter": "python",
   "pygments_lexer": "ipython3",
   "version": "3.10.12"
  },
  "orig_nbformat": 4
 },
 "nbformat": 4,
 "nbformat_minor": 2
}
